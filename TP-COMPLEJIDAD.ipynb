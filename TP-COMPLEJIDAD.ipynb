{
  "nbformat": 4,
  "nbformat_minor": 0,
  "metadata": {
    "colab": {
      "name": "Untitled8.ipynb",
      "provenance": [],
      "collapsed_sections": [],
      "authorship_tag": "ABX9TyNnXzAhyKk2u1m18J5uvpw/",
      "include_colab_link": true
    },
    "kernelspec": {
      "name": "python3",
      "display_name": "Python 3"
    },
    "language_info": {
      "name": "python"
    }
  },
  "cells": [
    {
      "cell_type": "markdown",
      "metadata": {
        "id": "view-in-github",
        "colab_type": "text"
      },
      "source": [
        "<a href=\"https://colab.research.google.com/github/Felipekcomt/TP-Complejidad/blob/main/TP-COMPLEJIDAD.ipynb\" target=\"_parent\"><img src=\"https://colab.research.google.com/assets/colab-badge.svg\" alt=\"Open In Colab\"/></a>"
      ]
    },
    {
      "cell_type": "code",
      "metadata": {
        "colab": {
          "base_uri": "https://localhost:8080/"
        },
        "id": "XzDcWpk1xLOZ",
        "outputId": "228a1ce0-0703-419a-b14f-2876453da8de"
      },
      "source": [
        "!git clone https://github.com/lmcanavals/algorithmic_complexity.git\n",
        "import pandas as pd\n",
        "import numpy as np\n",
        "import networkx as nx\n",
        "import math\n",
        "import heapq as pq \n",
        "from algorithmic_complexity.aclib import graphstuff as gs\n",
        "URL = 'https://raw.githubusercontent.com/lmcanavals/algorithmic_complexity/main/data/poblaciones.csv'\n",
        "poblaciones = pd.read_csv(URL)\n",
        "print(poblaciones)"
      ],
      "execution_count": 200,
      "outputs": [
        {
          "output_type": "stream",
          "text": [
            "fatal: destination path 'algorithmic_complexity' already exists and is not an empty directory.\n",
            "     DEPARTAMENTO         PROVINCIA     DISTRITO  ...    LONGITUD NMI1  NMI2\n",
            "0        AMAZONAS             BAGUA     ARAMANGO  ...   -78.45299  311  1206\n",
            "1        AMAZONAS             BAGUA     ARAMANGO  ...  -78.444372   44   129\n",
            "2        AMAZONAS             BAGUA     ARAMANGO  ...   -78.44472   49   179\n",
            "3        AMAZONAS             BAGUA        BAGUA  ...  -78.495229    3     8\n",
            "4        AMAZONAS           BONGARA      CUISPES  ...  -77.965302    1     4\n",
            "...           ...               ...          ...  ...         ...  ...   ...\n",
            "3752      UCAYALI  CORONEL PORTILLO  YARINACOCHA  ...  -74.621338   54   186\n",
            "3753      UCAYALI        PADRE ABAD     CURIMANA  ...   -75.08788  119   483\n",
            "3754      UCAYALI        PADRE ABAD     CURIMANA  ...  -75.082978    9    43\n",
            "3755      UCAYALI        PADRE ABAD     CURIMANA  ...  -75.089698   29   132\n",
            "3756      UCAYALI        PADRE ABAD     CURIMANA  ...  -75.087845   62   277\n",
            "\n",
            "[3757 rows x 8 columns]\n"
          ],
          "name": "stdout"
        }
      ]
    },
    {
      "cell_type": "code",
      "metadata": {
        "colab": {
          "base_uri": "https://localhost:8080/"
        },
        "id": "rUBaug7u-t1w",
        "outputId": "4c7a4c5c-6aad-42d2-fbcf-133d00b34017"
      },
      "source": [
        "nomprovincias = poblaciones['PROVINCIA'].unique()\n",
        "print(nomprovincias)"
      ],
      "execution_count": 202,
      "outputs": [
        {
          "output_type": "stream",
          "text": [
            "['BAGUA' 'BONGARA' 'CHACHAPOYAS' 'UTCUBAMBA' 'ANTONIO RAYMONDI'\n",
            " 'BOLOGNESI' 'CARHUAZ' 'CASMA' 'HUARAZ' 'HUARI' 'HUAYLAS' 'OCROS'\n",
            " 'POMABAMBA' 'RECUAY' 'SANTA' 'SIHUAS' 'YUNGAY' 'ABANCAY' 'ANDAHUAYLAS'\n",
            " 'ANTABAMBA' 'AYMARAES' 'CHINCHEROS' 'GRAU' 'AREQUIPA' 'CAMANA' 'CARAVELI'\n",
            " 'CASTILLA' 'CAYLLOMA' 'CONDESUYOS' 'CANGALLO' 'HUAMANGA' 'HUANCA SANCOS'\n",
            " 'HUANTA' 'LUCANAS' 'PARINACOCHAS' 'VICTOR FAJARDO' 'CAJABAMBA'\n",
            " 'CAJAMARCA' 'CELENDIN' 'CHOTA' 'CONTUMAZA' 'CUTERVO' 'JAEN' 'SAN IGNACIO'\n",
            " 'SAN MARCOS' 'SAN MIGUEL' 'SAN MIMGUEL' 'SANTA CRUZ' 'ACOMAYO' 'CALCA'\n",
            " 'CANAS' 'CANCHIS' 'CHUMBIVILCAS' 'LA CONVENCION' 'PARURO' 'QUISPICANCHI'\n",
            " 'PROVINCIA' 'CASTROVIRREYNA' 'CHURCAMPA' 'HUANCAVELICA' 'HUAYTARA'\n",
            " 'TAYACAJA' 'AMBO' 'DOS DE MAYO' 'DOSDEMAYO' 'HUAMALIES' 'HUANUCO SANTA'\n",
            " 'HUANUCO' 'LAURICOCHA' 'LEONCIO PRADO' 'MARAÑON' 'PUERTO INCA' 'CHINCHA'\n",
            " 'ICA' 'NASCA' 'PALPA' 'PISCO' 'CHANCHAMAYO' 'CHUPACA' 'CONCEPCION'\n",
            " 'HUANCAYO' 'JAUJA' 'JUNIN' 'SATIPO' 'TARMA' 'ASCOPE' 'BOLIVAR' 'CHEPEN'\n",
            " 'GRAN CHIMU' 'JULCAN' 'OTUZCO' 'PACASMAYO' 'PATAZ' 'SANCHEZ CARRION'\n",
            " 'SANTIAGO DE CHUCO' 'TRUJILLO' 'VIRU' 'CHICLAYO' 'FERREÑAFE' 'LAMBAYEQUE'\n",
            " 'BARRANCA' 'CAJATAMBO' 'CAÑETE' 'HUARAL' 'HUAROCHIRI' 'HUAURA' 'LIMA'\n",
            " 'OYON' 'YAUYOS' 'ALTO AMAZONAS' 'LORETO' 'MARISCAL RAMON CASTILLA'\n",
            " 'MAYNAS' 'PUTUMAYO   10' 'REQUENA' 'UCAYALI' 'MANU' 'TAMBOPATA'\n",
            " 'GENERAL SANCHEZ CERRO' 'MARISCAL NIETO' 'DANIEL ALCIDES CARRION'\n",
            " 'OXAPAMPA' 'PASCO' 'AYABACA' 'HUANCABAMBA' 'MORROPON' 'PAITA' 'PIURA'\n",
            " 'SECHURA' 'SULLANA' 'TALARA' 'AZANGARO' 'CARABAYA' 'CHUCUITO' 'EL COLLAO'\n",
            " 'LAMPA' 'MELGAR' 'PUNO' 'SANDIA' 'BELLAVISTA' 'HUALLAGA' 'LAMAS'\n",
            " 'MARISCAL CACERES' 'MOYOBAMBA' 'PICOTA' 'RIOJA' 'SAN MARTIN' 'TOCACHE'\n",
            " 'CANDARAVE' 'JORGE BASADRE' 'TACNA' 'TARATA' 'CONTRALMIRANTE VILLAR'\n",
            " 'TUMBES' 'ZARUMILLA' 'CORONEL PORTILLO' 'PADRE ABAD']\n"
          ],
          "name": "stdout"
        }
      ]
    },
    {
      "cell_type": "code",
      "metadata": {
        "id": "q7FCbmBV--o8"
      },
      "source": [
        "provincias = dict()\n",
        "for nom in nomprovincias:\n",
        "    provincias[nom] = poblaciones[poblaciones['PROVINCIA'] == nom]\n",
        "    print(nom, len(provincias[nom]))"
      ],
      "execution_count": null,
      "outputs": []
    },
    {
      "cell_type": "code",
      "metadata": {
        "colab": {
          "base_uri": "https://localhost:8080/"
        },
        "id": "_uiFofwi_FEr",
        "outputId": "5fc73367-42bd-4ce2-eed4-00b02fafcd03"
      },
      "source": [
        "Provin = 'LORETO'\n",
        "nomdistritos = provincias[Provin]['DISTRITO'].unique()\n",
        "print(nomdistritos)\n",
        "distritos = dict()\n",
        "for nom in nomdistritos:\n",
        "    distritos[nom] = provincias[Provin][provincias[Provin]['DISTRITO'] == nom]\n",
        "    print(nom, len(distritos[nom]))"
      ],
      "execution_count": 204,
      "outputs": [
        {
          "output_type": "stream",
          "text": [
            "['NAUTA' 'PARINARI' 'URARINAS']\n",
            "NAUTA 10\n",
            "PARINARI 7\n",
            "URARINAS 6\n"
          ],
          "name": "stdout"
        }
      ]
    },
    {
      "cell_type": "code",
      "metadata": {
        "colab": {
          "base_uri": "https://localhost:8080/"
        },
        "id": "2QOh2put_LPj",
        "outputId": "c386bcf1-3e17-4170-a210-0d0f51bc5d3e"
      },
      "source": [
        "distrito = distritos['URARINAS']\n",
        "print(distrito)"
      ],
      "execution_count": 205,
      "outputs": [
        {
          "output_type": "stream",
          "text": [
            "     DEPARTAMENTO PROVINCIA  DISTRITO  ...    LONGITUD NMI1 NMI2\n",
            "2537       LORETO    LORETO  URARINAS  ...   -74.78762    6   16\n",
            "2538       LORETO    LORETO  URARINAS  ...  -74.874723    3   17\n",
            "2539       LORETO    LORETO  URARINAS  ...  -74.839652   34  144\n",
            "2540       LORETO    LORETO  URARINAS  ...   -75.20256   35  137\n",
            "2541       LORETO    LORETO  URARINAS  ...  -74.933766  208  810\n",
            "2542       LORETO    LORETO  URARINAS  ...  -74.914747   75  347\n",
            "\n",
            "[6 rows x 8 columns]\n"
          ],
          "name": "stdout"
        }
      ]
    },
    {
      "cell_type": "code",
      "metadata": {
        "id": "-Fq1RLQv_Q_j"
      },
      "source": [
        "def haversine(cp1, cp2): #FORMULAR PARA HALLAR DISTANCIA ENTRE 2 PUNTOS GEOFRAFICOS (LATITUD, LONGITUD)\n",
        "  la1, lo1 = float(cp1['LATITUD']), float(cp1['LONGITUD'])\n",
        "  la2, lo2 = float(cp2['LATITUD']), float(cp2['LONGITUD'])\n",
        "  lo1, la1, lo2, la2 = map(math.radians, [lo1, la1, lo2, la2])\n",
        "  dlo = lo2 - lo1 #Diferencia de longitud\n",
        "  dla = la2 - la1 #Diferencia de latitud\n",
        "  a = math.sin(dla/2)**2 + math.cos(la1) * math.cos(la2) * math.sin(dlo/2)**2\n",
        "  c = 2 * math.asin(math.sqrt(a))\n",
        "  r = 6371 #radio de la tierra (equivolumen)\n",
        "\n",
        "  return round(c * r, 2)"
      ],
      "execution_count": 206,
      "outputs": []
    },
    {
      "cell_type": "code",
      "metadata": {
        "colab": {
          "base_uri": "https://localhost:8080/"
        },
        "id": "cxgJFykx_Y0a",
        "outputId": "1082351c-f8be-4bf9-d108-3b03da40fdd8"
      },
      "source": [
        "G = nx.Graph()\n",
        "aristas = 0\n",
        "dist = []\n",
        "goto = []\n",
        "adj = [[],[],[],[],[],[]]\n",
        "Nstart = 0\n",
        "col = 'CENTRO POBLADO'\n",
        "for i, cp1 in distrito.iterrows():\n",
        "  G.add_node(i, label=cp1[col])\n",
        "for i, cp1 in distrito.iterrows():\n",
        "  Nend = 0\n",
        "  Nstart = Nstart + 1\n",
        "  for j, cp2 in distrito.iterrows():\n",
        "    Nend = Nend + 1\n",
        "    if cp1[col] != cp2[col]:\n",
        "      aristas = aristas + 1\n",
        "      G.add_edge(i, j, weight=haversine(cp1, cp2))\n",
        "      goto.append((cp1[col], cp2[col],haversine(cp1, cp2)))\n",
        "      n = len(G)    \n",
        "      m = aristas//2\n",
        "      adj[Nstart - 1].append((Nend - 1, haversine(cp1, cp2)))\n",
        "     # dist = adj[Nend - 1][0]\n",
        "  print(Nstart - 1,\"->\" ,adj[Nstart - 1])\n",
        " # print(dist)\n",
        "\n"
      ],
      "execution_count": 271,
      "outputs": [
        {
          "output_type": "stream",
          "text": [
            "0 -> [(1, 10.56), (2, 6.0), (3, 49.57), (4, 17.25), (5, 16.19)]\n",
            "1 -> [(0, 10.56), (2, 4.69), (3, 39.02), (4, 6.75), (5, 5.77)]\n",
            "2 -> [(0, 6.0), (1, 4.69), (3, 43.61), (4, 11.28), (5, 10.45)]\n",
            "3 -> [(0, 49.57), (1, 39.02), (2, 43.61), (4, 32.33), (5, 33.59)]\n",
            "4 -> [(0, 17.25), (1, 6.75), (2, 11.28), (3, 32.33), (5, 2.93)]\n",
            "5 -> [(0, 16.19), (1, 5.77), (2, 10.45), (3, 33.59), (4, 2.93)]\n"
          ],
          "name": "stdout"
        }
      ]
    },
    {
      "cell_type": "code",
      "metadata": {
        "colab": {
          "base_uri": "https://localhost:8080/",
          "height": 660
        },
        "id": "y1fRj25iA2c4",
        "outputId": "9e039846-7931-4c0f-89f4-2e7ef53c81a5"
      },
      "source": [
        "gs.nx2gv(G, weighted = True, params = {'size' : '15'},nodeinfo=True)"
      ],
      "execution_count": 208,
      "outputs": [
        {
          "output_type": "execute_result",
          "data": {
            "text/plain": [
              "<graphviz.dot.Graph at 0x7f60499ed590>"
            ],
            "image/svg+xml": "<?xml version=\"1.0\" encoding=\"UTF-8\" standalone=\"no\"?>\n<!DOCTYPE svg PUBLIC \"-//W3C//DTD SVG 1.1//EN\"\n \"http://www.w3.org/Graphics/SVG/1.1/DTD/svg11.dtd\">\n<!-- Generated by graphviz version 2.40.1 (20161225.0304)\n -->\n<!-- Title: G Pages: 1 -->\n<svg width=\"490pt\" height=\"479pt\"\n viewBox=\"0.00 0.00 490.00 479.00\" xmlns=\"http://www.w3.org/2000/svg\" xmlns:xlink=\"http://www.w3.org/1999/xlink\">\n<g id=\"graph0\" class=\"graph\" transform=\"scale(1 1) rotate(0) translate(4 475)\">\n<title>G</title>\n<polygon fill=\"#ffffff\" stroke=\"transparent\" points=\"-4,4 -4,-475 486,-475 486,4 -4,4\"/>\n<!-- 2537 -->\n<g id=\"node1\" class=\"node\">\n<title>2537</title>\n<ellipse fill=\"none\" stroke=\"#000000\" cx=\"113\" cy=\"-453\" rx=\"44.6926\" ry=\"18\"/>\n<text text-anchor=\"middle\" x=\"113\" y=\"-449.3\" font-family=\"Times,serif\" font-size=\"14.00\" fill=\"#000000\">BERLIN</text>\n</g>\n<!-- 2538 -->\n<g id=\"node2\" class=\"node\">\n<title>2538</title>\n<ellipse fill=\"none\" stroke=\"#000000\" cx=\"242\" cy=\"-366\" rx=\"77.9862\" ry=\"18\"/>\n<text text-anchor=\"middle\" x=\"242\" y=\"-362.3\" font-family=\"Times,serif\" font-size=\"14.00\" fill=\"#000000\">BUENOS AIRES</text>\n</g>\n<!-- 2537&#45;&#45;2538 -->\n<g id=\"edge1\" class=\"edge\">\n<title>2537&#45;&#45;2538</title>\n<path fill=\"none\" stroke=\"#000000\" d=\"M136.0626,-437.4461C158.6735,-422.197 193.0659,-399.0021 216.4849,-383.2079\"/>\n<text text-anchor=\"middle\" x=\"202\" y=\"-405.8\" font-family=\"Times,serif\" font-size=\"14.00\" fill=\"#000000\">10.56</text>\n</g>\n<!-- 2539 -->\n<g id=\"node3\" class=\"node\">\n<title>2539</title>\n<ellipse fill=\"none\" stroke=\"#000000\" cx=\"242\" cy=\"-279\" rx=\"77.1866\" ry=\"18\"/>\n<text text-anchor=\"middle\" x=\"242\" y=\"-275.3\" font-family=\"Times,serif\" font-size=\"14.00\" fill=\"#000000\">HUALLPA ISLA</text>\n</g>\n<!-- 2537&#45;&#45;2539 -->\n<g id=\"edge2\" class=\"edge\">\n<title>2537&#45;&#45;2539</title>\n<path fill=\"none\" stroke=\"#000000\" d=\"M112.9229,-434.6424C113.6905,-412.2823 117.8581,-374.2523 136,-348 152.6656,-323.884 180.7757,-306.156 203.862,-294.7117\"/>\n<text text-anchor=\"middle\" x=\"145.5\" y=\"-362.3\" font-family=\"Times,serif\" font-size=\"14.00\" fill=\"#000000\">6.0</text>\n</g>\n<!-- 2540 -->\n<g id=\"node4\" class=\"node\">\n<title>2540</title>\n<ellipse fill=\"none\" stroke=\"#000000\" cx=\"113\" cy=\"-192\" rx=\"85.2851\" ry=\"18\"/>\n<text text-anchor=\"middle\" x=\"113\" y=\"-188.3\" font-family=\"Times,serif\" font-size=\"14.00\" fill=\"#000000\">SAN FRANCISCO</text>\n</g>\n<!-- 2537&#45;&#45;2540 -->\n<g id=\"edge3\" class=\"edge\">\n<title>2537&#45;&#45;2540</title>\n<path fill=\"none\" stroke=\"#000000\" d=\"M111.9188,-434.7508C109.8264,-398.3174 105.3137,-313.9644 104,-243 103.8766,-236.3345 103.1854,-234.6167 104,-228 104.7242,-222.1174 106.0902,-215.8136 107.5432,-210.1509\"/>\n<text text-anchor=\"middle\" x=\"124\" y=\"-318.8\" font-family=\"Times,serif\" font-size=\"14.00\" fill=\"#000000\">49.57</text>\n</g>\n<!-- 2541 -->\n<g id=\"node5\" class=\"node\">\n<title>2541</title>\n<ellipse fill=\"none\" stroke=\"#000000\" cx=\"202\" cy=\"-105\" rx=\"124.5782\" ry=\"18\"/>\n<text text-anchor=\"middle\" x=\"202\" y=\"-101.3\" font-family=\"Times,serif\" font-size=\"14.00\" fill=\"#000000\">SAN JOSE DE SARAMURO</text>\n</g>\n<!-- 2537&#45;&#45;2541 -->\n<g id=\"edge4\" class=\"edge\">\n<title>2537&#45;&#45;2541</title>\n<path fill=\"none\" stroke=\"#000000\" d=\"M76.9354,-442.0675C43.8652,-429.5444 0,-405.4905 0,-366 0,-366 0,-366 0,-192 0,-161.8825 76.7026,-135.8472 135.5779,-120.2992\"/>\n<text text-anchor=\"middle\" x=\"17\" y=\"-275.3\" font-family=\"Times,serif\" font-size=\"14.00\" fill=\"#000000\">17.25</text>\n</g>\n<!-- 2542 -->\n<g id=\"node6\" class=\"node\">\n<title>2542</title>\n<ellipse fill=\"none\" stroke=\"#000000\" cx=\"355\" cy=\"-18\" rx=\"79.0865\" ry=\"18\"/>\n<text text-anchor=\"middle\" x=\"355\" y=\"-14.3\" font-family=\"Times,serif\" font-size=\"14.00\" fill=\"#000000\">SARAMURILLO</text>\n</g>\n<!-- 2537&#45;&#45;2542 -->\n<g id=\"edge5\" class=\"edge\">\n<title>2537&#45;&#45;2542</title>\n<path fill=\"none\" stroke=\"#000000\" d=\"M157.832,-450.7206C249.1164,-444.8511 448,-425.2628 448,-366 448,-366 448,-366 448,-105 448,-72.3887 417.1264,-48.4751 390.9562,-34.0625\"/>\n<text text-anchor=\"middle\" x=\"465\" y=\"-231.8\" font-family=\"Times,serif\" font-size=\"14.00\" fill=\"#000000\">16.19</text>\n</g>\n<!-- 2538&#45;&#45;2539 -->\n<g id=\"edge6\" class=\"edge\">\n<title>2538&#45;&#45;2539</title>\n<path fill=\"none\" stroke=\"#000000\" d=\"M242,-347.9735C242,-333.0422 242,-311.9283 242,-297.0034\"/>\n<text text-anchor=\"middle\" x=\"255.5\" y=\"-318.8\" font-family=\"Times,serif\" font-size=\"14.00\" fill=\"#000000\">4.69</text>\n</g>\n<!-- 2538&#45;&#45;2540 -->\n<g id=\"edge7\" class=\"edge\">\n<title>2538&#45;&#45;2540</title>\n<path fill=\"none\" stroke=\"#000000\" d=\"M195.6053,-351.4573C169.4686,-340.7302 138.786,-323.3487 122,-297 105.1899,-270.6135 106.8214,-232.6286 109.7581,-210.3132\"/>\n<text text-anchor=\"middle\" x=\"139\" y=\"-275.3\" font-family=\"Times,serif\" font-size=\"14.00\" fill=\"#000000\">39.02</text>\n</g>\n<!-- 2538&#45;&#45;2541 -->\n<g id=\"edge8\" class=\"edge\">\n<title>2538&#45;&#45;2541</title>\n<path fill=\"none\" stroke=\"#000000\" d=\"M274.1412,-349.5446C293.4731,-337.7569 316.4968,-319.9265 328,-297 343.5546,-265.9989 354.0266,-168.5844 333,-141 328.7462,-135.4195 300.1407,-127.2483 270.742,-120.1007\"/>\n<text text-anchor=\"middle\" x=\"356.5\" y=\"-231.8\" font-family=\"Times,serif\" font-size=\"14.00\" fill=\"#000000\">6.75</text>\n</g>\n<!-- 2538&#45;&#45;2542 -->\n<g id=\"edge9\" class=\"edge\">\n<title>2538&#45;&#45;2542</title>\n<path fill=\"none\" stroke=\"#000000\" d=\"M304.7258,-355.2842C346.2128,-344.1865 393,-322.1136 393,-279 393,-279 393,-279 393,-105 393,-79.4528 379.0695,-52.9481 368.0774,-36.0108\"/>\n<text text-anchor=\"middle\" x=\"406.5\" y=\"-188.3\" font-family=\"Times,serif\" font-size=\"14.00\" fill=\"#000000\">5.77</text>\n</g>\n<!-- 2539&#45;&#45;2540 -->\n<g id=\"edge10\" class=\"edge\">\n<title>2539&#45;&#45;2540</title>\n<path fill=\"none\" stroke=\"#000000\" d=\"M215.6183,-261.9143C206.5198,-255.9735 196.2839,-249.2362 187,-243 170.551,-231.9507 152.2104,-219.3128 137.9033,-209.3819\"/>\n<text text-anchor=\"middle\" x=\"204\" y=\"-231.8\" font-family=\"Times,serif\" font-size=\"14.00\" fill=\"#000000\">43.61</text>\n</g>\n<!-- 2539&#45;&#45;2541 -->\n<g id=\"edge11\" class=\"edge\">\n<title>2539&#45;&#45;2541</title>\n<path fill=\"none\" stroke=\"#000000\" d=\"M237.7949,-260.7078C230.0925,-227.2024 213.8091,-156.3695 206.1488,-123.0471\"/>\n<text text-anchor=\"middle\" x=\"242\" y=\"-188.3\" font-family=\"Times,serif\" font-size=\"14.00\" fill=\"#000000\">11.28</text>\n</g>\n<!-- 2539&#45;&#45;2542 -->\n<g id=\"edge12\" class=\"edge\">\n<title>2539&#45;&#45;2542</title>\n<path fill=\"none\" stroke=\"#000000\" d=\"M255.9316,-260.9288C276.7486,-232.9772 315.6916,-176.8462 336,-123 346.9828,-93.8799 351.7333,-57.7602 353.7015,-36.3689\"/>\n<text text-anchor=\"middle\" x=\"345\" y=\"-144.8\" font-family=\"Times,serif\" font-size=\"14.00\" fill=\"#000000\">10.45</text>\n</g>\n<!-- 2540&#45;&#45;2541 -->\n<g id=\"edge13\" class=\"edge\">\n<title>2540&#45;&#45;2541</title>\n<path fill=\"none\" stroke=\"#000000\" d=\"M131.0105,-174.3943C146.35,-159.3994 168.292,-137.9505 183.7108,-122.8782\"/>\n<text text-anchor=\"middle\" x=\"179\" y=\"-144.8\" font-family=\"Times,serif\" font-size=\"14.00\" fill=\"#000000\">32.33</text>\n</g>\n<!-- 2540&#45;&#45;2542 -->\n<g id=\"edge14\" class=\"edge\">\n<title>2540&#45;&#45;2542</title>\n<path fill=\"none\" stroke=\"#000000\" d=\"M84.5477,-174.9957C52.9691,-153.9995 9.4853,-117.3441 34,-87 64.2694,-49.5327 194.4676,-31.4633 279.4657,-23.509\"/>\n<text text-anchor=\"middle\" x=\"51\" y=\"-101.3\" font-family=\"Times,serif\" font-size=\"14.00\" fill=\"#000000\">33.59</text>\n</g>\n<!-- 2541&#45;&#45;2542 -->\n<g id=\"edge15\" class=\"edge\">\n<title>2541&#45;&#45;2542</title>\n<path fill=\"none\" stroke=\"#000000\" d=\"M232.9618,-87.3943C259.9432,-72.0519 298.8073,-49.9527 325.3839,-34.8405\"/>\n<text text-anchor=\"middle\" x=\"300.5\" y=\"-57.8\" font-family=\"Times,serif\" font-size=\"14.00\" fill=\"#000000\">2.93</text>\n</g>\n</g>\n</svg>\n"
          },
          "metadata": {
            "tags": []
          },
          "execution_count": 208
        }
      ]
    },
    {
      "cell_type": "code",
      "metadata": {
        "colab": {
          "base_uri": "https://localhost:8080/"
        },
        "id": "zP9jTbWiMQMZ",
        "outputId": "4b4f94f8-a174-404d-bae7-a637cfba64da"
      },
      "source": [
        "\n",
        "def dijkstra(n,adj ,start):\n",
        "  q = [] \n",
        "  visit = [False for _ in range(n)]\n",
        "  dist = [float('inf') for _ in range(n)]\n",
        "  dist[start] = 0\n",
        "  pq.heappush(q,(0 ,start))\n",
        "  while len(q) > 0:\n",
        "    _, v = pq.heappop(q) #(v = 0, w= 0), (v=1, w= 10.56) \n",
        "    if visit[v]:\n",
        "      continue\n",
        "    visit[v] = True \n",
        "    for vecino, w in adj[v]: # 0 -> [(1, 10.56), (2, 6.0), (3, 49.57), (4, 17.25), (5, 16.19)]\n",
        "      if dist[v] + w < dist[vecino] and visit[vecino] == False: #vecino = 1 , w = 10.56\n",
        "        dist[vecino] = dist[v] + w #dist[vecino] = 10.56\n",
        "        pq.heappush(q, (dist[vecino], vecino))      \n",
        "  return dist\n",
        "  print(dist)\n",
        "ans = dijkstra(n, adj, 0)\n",
        "for x in ans:\n",
        "  print(x, end =' -> ')"
      ],
      "execution_count": 275,
      "outputs": [
        {
          "output_type": "stream",
          "text": [
            "0 -> 10.56 -> 6.0 -> 49.57 -> 17.25 -> 16.19 -> "
          ],
          "name": "stdout"
        }
      ]
    },
    {
      "cell_type": "code",
      "metadata": {
        "id": "Jz48rEZCWQrJ"
      },
      "source": [
        ""
      ],
      "execution_count": 275,
      "outputs": []
    }
  ]
}